{
 "cells": [
  {
   "cell_type": "markdown",
   "id": "project-overview",
   "metadata": {
    "id": "project-overview"
   },
   "source": [
    "# Stock Price Movement Prediction\n",
    "## Objective\n",
    "Predict whether the closing price of an S&P 500 stock will increase or decrease on the next trading day based on the following features:\n",
    "- Opening Price\n",
    "- Highest Price\n",
    "- Lowest Price\n",
    "- Adjusted Close Price\n",
    "- Trading Volume\n",
    "\n",
    "## Data Description\n",
    "- **Date Range**: 2010 to end of 2016\n",
    "- **Companies**: 501 S&P 500 companies\n",
    "- **Data Points**: 851,264 entries\n",
    "- **Adjustments**: 140 stock splits adjusted in `prices-split-adjusted.csv`\n"
   ]
  },
  {
   "cell_type": "markdown",
   "id": "importing-libraries",
   "metadata": {
    "id": "importing-libraries"
   },
   "source": [
    "## Importing Necessary Libraries\n",
    "We'll import only the essential libraries required for data manipulation, visualization, and modeling with LSTM."
   ]
  },
  {
   "cell_type": "code",
   "execution_count": 1,
   "id": "import-libs",
   "metadata": {
    "id": "import-libs"
   },
   "outputs": [],
   "source": [
    "# Data manipulation and analysis\n",
    "import pandas as pd\n",
    "import numpy as np\n",
    "\n",
    "# Visualization\n",
    "import matplotlib.pyplot as plt\n",
    "import seaborn as sns\n",
    "\n",
    "# Machine Learning and Preprocessing\n",
    "from sklearn.preprocessing import StandardScaler, MinMaxScaler\n",
    "from sklearn.metrics import accuracy_score, precision_score, recall_score, f1_score, confusion_matrix, roc_auc_score, classification_report, roc_curve\n",
    "\n",
    "# Deep Learning with TensorFlow and Keras\n",
    "from tensorflow.keras.models import Sequential\n",
    "from tensorflow.keras.layers import LSTM, Dense, Dropout\n",
    "from tensorflow.keras.callbacks import EarlyStopping\n",
    "from tensorflow.keras.optimizers.legacy import Adam\n",
    "\n",
    "\n",
    "# Suppress warnings\n",
    "import warnings\n",
    "warnings.filterwarnings('ignore')\n",
    "\n",
    "# Set plot aesthetics\n",
    "sns.set_theme(style=\"whitegrid\", palette=\"muted\")\n",
    "%matplotlib inline"
   ]
  },
  {
   "cell_type": "markdown",
   "id": "loading-data",
   "metadata": {
    "id": "loading-data"
   },
   "source": [
    "## Loading and Inspecting the Data\n",
    "We'll load the dataset, inspect the first few rows, check for missing values, and understand the data types."
   ]
  },
  {
   "cell_type": "code",
   "execution_count": 2,
   "id": "nrYLm9ZT8AAX",
   "metadata": {
    "colab": {
     "base_uri": "https://localhost:8080/",
     "height": 224
    },
    "id": "nrYLm9ZT8AAX",
    "outputId": "4eb877ec-bfda-449a-b437-b6c4c771f1fc"
   },
   "outputs": [],
   "source": [
    "# from google.colab import drive\n",
    "# from tensorflow.keras.optimizers import Adam\n",
    "# import zipfile\n",
    "# import os\n",
    "\n",
    "# # Mount Google Drive\n",
    "# drive.mount('/content/drive')\n",
    "\n",
    "# # Define the path to the ZIP file and CSV file\n",
    "# zip_file_path = '/content/drive/MyDrive/DSi/prices-split-adjusted.csv.zip'  # Adjust the path to match your file's location\n",
    "# extract_to_path = '/content/drive/My Drive/DSi/'  # Folder to extract the ZIP file to\n",
    "# csv_file_path = os.path.join(extract_to_path, 'prices-split-adjusted.csv')  # Path to the extracted CSV\n",
    "\n",
    "# # Extract the ZIP file\n",
    "# with zipfile.ZipFile(zip_file_path, 'r') as zip_ref:\n",
    "#     zip_ref.extractall(extract_to_path)\n",
    "\n",
    "# # Load the dataset\n",
    "# df = pd.read_csv(csv_file_path)\n",
    "\n",
    "# # Display the first few rows of the dataset\n",
    "# df.head()\n"
   ]
  },
  {
   "cell_type": "code",
   "execution_count": 3,
   "id": "load-data",
   "metadata": {
    "id": "load-data"
   },
   "outputs": [
    {
     "data": {
      "text/html": [
       "<div>\n",
       "<style scoped>\n",
       "    .dataframe tbody tr th:only-of-type {\n",
       "        vertical-align: middle;\n",
       "    }\n",
       "\n",
       "    .dataframe tbody tr th {\n",
       "        vertical-align: top;\n",
       "    }\n",
       "\n",
       "    .dataframe thead th {\n",
       "        text-align: right;\n",
       "    }\n",
       "</style>\n",
       "<table border=\"1\" class=\"dataframe\">\n",
       "  <thead>\n",
       "    <tr style=\"text-align: right;\">\n",
       "      <th></th>\n",
       "      <th>date</th>\n",
       "      <th>symbol</th>\n",
       "      <th>open</th>\n",
       "      <th>close</th>\n",
       "      <th>low</th>\n",
       "      <th>high</th>\n",
       "      <th>volume</th>\n",
       "    </tr>\n",
       "  </thead>\n",
       "  <tbody>\n",
       "    <tr>\n",
       "      <th>0</th>\n",
       "      <td>2016-01-05</td>\n",
       "      <td>WLTW</td>\n",
       "      <td>123.430000</td>\n",
       "      <td>125.839996</td>\n",
       "      <td>122.309998</td>\n",
       "      <td>126.250000</td>\n",
       "      <td>2163600.0</td>\n",
       "    </tr>\n",
       "    <tr>\n",
       "      <th>1</th>\n",
       "      <td>2016-01-06</td>\n",
       "      <td>WLTW</td>\n",
       "      <td>125.239998</td>\n",
       "      <td>119.980003</td>\n",
       "      <td>119.940002</td>\n",
       "      <td>125.540001</td>\n",
       "      <td>2386400.0</td>\n",
       "    </tr>\n",
       "    <tr>\n",
       "      <th>2</th>\n",
       "      <td>2016-01-07</td>\n",
       "      <td>WLTW</td>\n",
       "      <td>116.379997</td>\n",
       "      <td>114.949997</td>\n",
       "      <td>114.930000</td>\n",
       "      <td>119.739998</td>\n",
       "      <td>2489500.0</td>\n",
       "    </tr>\n",
       "    <tr>\n",
       "      <th>3</th>\n",
       "      <td>2016-01-08</td>\n",
       "      <td>WLTW</td>\n",
       "      <td>115.480003</td>\n",
       "      <td>116.620003</td>\n",
       "      <td>113.500000</td>\n",
       "      <td>117.440002</td>\n",
       "      <td>2006300.0</td>\n",
       "    </tr>\n",
       "    <tr>\n",
       "      <th>4</th>\n",
       "      <td>2016-01-11</td>\n",
       "      <td>WLTW</td>\n",
       "      <td>117.010002</td>\n",
       "      <td>114.970001</td>\n",
       "      <td>114.089996</td>\n",
       "      <td>117.330002</td>\n",
       "      <td>1408600.0</td>\n",
       "    </tr>\n",
       "  </tbody>\n",
       "</table>\n",
       "</div>"
      ],
      "text/plain": [
       "         date symbol        open       close         low        high  \\\n",
       "0  2016-01-05   WLTW  123.430000  125.839996  122.309998  126.250000   \n",
       "1  2016-01-06   WLTW  125.239998  119.980003  119.940002  125.540001   \n",
       "2  2016-01-07   WLTW  116.379997  114.949997  114.930000  119.739998   \n",
       "3  2016-01-08   WLTW  115.480003  116.620003  113.500000  117.440002   \n",
       "4  2016-01-11   WLTW  117.010002  114.970001  114.089996  117.330002   \n",
       "\n",
       "      volume  \n",
       "0  2163600.0  \n",
       "1  2386400.0  \n",
       "2  2489500.0  \n",
       "3  2006300.0  \n",
       "4  1408600.0  "
      ]
     },
     "execution_count": 3,
     "metadata": {},
     "output_type": "execute_result"
    }
   ],
   "source": [
    "# Load the dataset\n",
    "df = pd.read_csv('../data/raw/prices-split-adjusted.csv')\n",
    "\n",
    "df.head()"
   ]
  },
  {
   "cell_type": "code",
   "execution_count": 4,
   "id": "data-info",
   "metadata": {
    "colab": {
     "base_uri": "https://localhost:8080/"
    },
    "id": "data-info",
    "outputId": "4a6550c4-68be-49a2-b7ae-27e49116e641"
   },
   "outputs": [
    {
     "name": "stdout",
     "output_type": "stream",
     "text": [
      "\n",
      "Data Information:\n",
      "<class 'pandas.core.frame.DataFrame'>\n",
      "RangeIndex: 851264 entries, 0 to 851263\n",
      "Data columns (total 7 columns):\n",
      " #   Column  Non-Null Count   Dtype  \n",
      "---  ------  --------------   -----  \n",
      " 0   date    851264 non-null  object \n",
      " 1   symbol  851264 non-null  object \n",
      " 2   open    851264 non-null  float64\n",
      " 3   close   851264 non-null  float64\n",
      " 4   low     851264 non-null  float64\n",
      " 5   high    851264 non-null  float64\n",
      " 6   volume  851264 non-null  float64\n",
      "dtypes: float64(5), object(2)\n",
      "memory usage: 45.5+ MB\n"
     ]
    }
   ],
   "source": [
    "# Check the data types and non-null counts\n",
    "print(\"\\nData Information:\")\n",
    "df.info()"
   ]
  },
  {
   "cell_type": "code",
   "execution_count": 5,
   "id": "15f078a5",
   "metadata": {
    "colab": {
     "base_uri": "https://localhost:8080/",
     "height": 339
    },
    "id": "15f078a5",
    "outputId": "e2da50fe-e215-401a-fbc2-10bb36e82ef9"
   },
   "outputs": [
    {
     "name": "stdout",
     "output_type": "stream",
     "text": [
      "\n",
      "Unique Values per Column:\n"
     ]
    },
    {
     "data": {
      "text/plain": [
       "date        1762\n",
       "symbol       501\n",
       "open       97522\n",
       "close      98520\n",
       "low        97470\n",
       "high       97784\n",
       "volume    171073\n",
       "dtype: int64"
      ]
     },
     "execution_count": 5,
     "metadata": {},
     "output_type": "execute_result"
    }
   ],
   "source": [
    "# Check unique values\n",
    "print(\"\\nUnique Values per Column:\")\n",
    "df.nunique()"
   ]
  },
  {
   "cell_type": "markdown",
   "id": "preprocessing",
   "metadata": {
    "id": "preprocessing"
   },
   "source": [
    "## Data Preprocessing\n",
    "Handle missing values, create the target variable, and perform necessary feature engineering."
   ]
  },
  {
   "cell_type": "markdown",
   "id": "handle-missing-values",
   "metadata": {
    "id": "handle-missing-values"
   },
   "source": [
    "### Handling Missing Values\n",
    "We'll impute missing values (if any) for numerical columns using the median strategy."
   ]
  },
  {
   "cell_type": "code",
   "execution_count": 6,
   "id": "190162d7",
   "metadata": {
    "colab": {
     "base_uri": "https://localhost:8080/",
     "height": 339
    },
    "id": "190162d7",
    "outputId": "4471b1cc-436b-450e-c667-00bd5473cf2b"
   },
   "outputs": [
    {
     "name": "stdout",
     "output_type": "stream",
     "text": [
      "\n",
      "Missing Values per Column:\n"
     ]
    },
    {
     "data": {
      "text/plain": [
       "date      0\n",
       "symbol    0\n",
       "open      0\n",
       "close     0\n",
       "low       0\n",
       "high      0\n",
       "volume    0\n",
       "dtype: int64"
      ]
     },
     "execution_count": 6,
     "metadata": {},
     "output_type": "execute_result"
    }
   ],
   "source": [
    "# Check for missing values\n",
    "print(\"\\nMissing Values per Column:\")\n",
    "df.isnull().sum()"
   ]
  },
  {
   "cell_type": "code",
   "execution_count": 7,
   "id": "impute-missing",
   "metadata": {
    "colab": {
     "base_uri": "https://localhost:8080/"
    },
    "id": "impute-missing",
    "outputId": "4242a17a-ce2e-4493-d054-d538a5d59c17"
   },
   "outputs": [
    {
     "name": "stdout",
     "output_type": "stream",
     "text": [
      "\n",
      "No missing values found. Skipping imputation.\n"
     ]
    }
   ],
   "source": [
    "# Check for missing values\n",
    "missing = df.isnull().sum()\n",
    "missing_cols = missing[missing > 0]\n",
    "\n",
    "if not missing_cols.empty:\n",
    "    print(\"\\nMissing Values:\")\n",
    "    print(missing_cols)\n",
    "\n",
    "    # Impute missing values for numerical columns using median\n",
    "    numerical_cols = ['open', 'close', 'low', 'high', 'volume']\n",
    "    imputer = SimpleImputer(strategy='median')\n",
    "    df[numerical_cols] = imputer.fit_transform(df[numerical_cols])\n",
    "\n",
    "    # Verify no missing values remain\n",
    "    print(\"\\nMissing Values After Imputation:\")\n",
    "    print(df.isnull().sum())\n",
    "else:\n",
    "    print(\"\\nNo missing values found. Skipping imputation.\")"
   ]
  },
  {
   "cell_type": "markdown",
   "id": "feature-engineering",
   "metadata": {
    "id": "feature-engineering"
   },
   "source": [
    "### Feature Engineering\n",
    "Create additional features that may help in prediction."
   ]
  },
  {
   "cell_type": "code",
   "execution_count": 8,
   "id": "create-features",
   "metadata": {
    "colab": {
     "base_uri": "https://localhost:8080/",
     "height": 259
    },
    "id": "create-features",
    "outputId": "2fe2bef3-b33f-4473-c121-5a89231f6740"
   },
   "outputs": [
    {
     "name": "stdout",
     "output_type": "stream",
     "text": [
      "\n",
      "Data with new features:\n"
     ]
    },
    {
     "data": {
      "text/html": [
       "<div>\n",
       "<style scoped>\n",
       "    .dataframe tbody tr th:only-of-type {\n",
       "        vertical-align: middle;\n",
       "    }\n",
       "\n",
       "    .dataframe tbody tr th {\n",
       "        vertical-align: top;\n",
       "    }\n",
       "\n",
       "    .dataframe thead th {\n",
       "        text-align: right;\n",
       "    }\n",
       "</style>\n",
       "<table border=\"1\" class=\"dataframe\">\n",
       "  <thead>\n",
       "    <tr style=\"text-align: right;\">\n",
       "      <th></th>\n",
       "      <th>date</th>\n",
       "      <th>symbol</th>\n",
       "      <th>open</th>\n",
       "      <th>close</th>\n",
       "      <th>low</th>\n",
       "      <th>high</th>\n",
       "      <th>volume</th>\n",
       "      <th>daily_return</th>\n",
       "      <th>volatility</th>\n",
       "      <th>MA10</th>\n",
       "      <th>MA50</th>\n",
       "      <th>RSI</th>\n",
       "      <th>BB_upper</th>\n",
       "      <th>BB_lower</th>\n",
       "    </tr>\n",
       "  </thead>\n",
       "  <tbody>\n",
       "    <tr>\n",
       "      <th>49</th>\n",
       "      <td>2016-03-16</td>\n",
       "      <td>WLTW</td>\n",
       "      <td>120.349998</td>\n",
       "      <td>120.820000</td>\n",
       "      <td>119.010002</td>\n",
       "      <td>121.040001</td>\n",
       "      <td>562100.0</td>\n",
       "      <td>0.003905</td>\n",
       "      <td>0.016867</td>\n",
       "      <td>118.392999</td>\n",
       "      <td>113.938400</td>\n",
       "      <td>91.354161</td>\n",
       "      <td>122.369285</td>\n",
       "      <td>114.416713</td>\n",
       "    </tr>\n",
       "    <tr>\n",
       "      <th>50</th>\n",
       "      <td>2016-03-17</td>\n",
       "      <td>WLTW</td>\n",
       "      <td>121.010002</td>\n",
       "      <td>124.029999</td>\n",
       "      <td>119.449997</td>\n",
       "      <td>124.410004</td>\n",
       "      <td>809300.0</td>\n",
       "      <td>0.024957</td>\n",
       "      <td>0.040988</td>\n",
       "      <td>119.095999</td>\n",
       "      <td>113.902200</td>\n",
       "      <td>94.479467</td>\n",
       "      <td>124.280062</td>\n",
       "      <td>113.911936</td>\n",
       "    </tr>\n",
       "    <tr>\n",
       "      <th>51</th>\n",
       "      <td>2016-03-18</td>\n",
       "      <td>WLTW</td>\n",
       "      <td>124.250000</td>\n",
       "      <td>121.269997</td>\n",
       "      <td>120.089996</td>\n",
       "      <td>124.559998</td>\n",
       "      <td>1607300.0</td>\n",
       "      <td>-0.023984</td>\n",
       "      <td>0.035976</td>\n",
       "      <td>119.503999</td>\n",
       "      <td>113.927999</td>\n",
       "      <td>76.731648</td>\n",
       "      <td>124.663518</td>\n",
       "      <td>114.344479</td>\n",
       "    </tr>\n",
       "    <tr>\n",
       "      <th>52</th>\n",
       "      <td>2016-03-21</td>\n",
       "      <td>WLTW</td>\n",
       "      <td>120.860001</td>\n",
       "      <td>121.449997</td>\n",
       "      <td>119.139999</td>\n",
       "      <td>121.839996</td>\n",
       "      <td>1001300.0</td>\n",
       "      <td>0.004882</td>\n",
       "      <td>0.022340</td>\n",
       "      <td>119.953999</td>\n",
       "      <td>114.057999</td>\n",
       "      <td>73.094836</td>\n",
       "      <td>124.904214</td>\n",
       "      <td>115.003783</td>\n",
       "    </tr>\n",
       "    <tr>\n",
       "      <th>53</th>\n",
       "      <td>2016-03-22</td>\n",
       "      <td>WLTW</td>\n",
       "      <td>121.029999</td>\n",
       "      <td>121.470001</td>\n",
       "      <td>120.720001</td>\n",
       "      <td>122.910004</td>\n",
       "      <td>711400.0</td>\n",
       "      <td>0.003635</td>\n",
       "      <td>0.018095</td>\n",
       "      <td>120.429999</td>\n",
       "      <td>114.154999</td>\n",
       "      <td>70.198089</td>\n",
       "      <td>124.884430</td>\n",
       "      <td>115.975568</td>\n",
       "    </tr>\n",
       "  </tbody>\n",
       "</table>\n",
       "</div>"
      ],
      "text/plain": [
       "          date symbol        open       close         low        high  \\\n",
       "49  2016-03-16   WLTW  120.349998  120.820000  119.010002  121.040001   \n",
       "50  2016-03-17   WLTW  121.010002  124.029999  119.449997  124.410004   \n",
       "51  2016-03-18   WLTW  124.250000  121.269997  120.089996  124.559998   \n",
       "52  2016-03-21   WLTW  120.860001  121.449997  119.139999  121.839996   \n",
       "53  2016-03-22   WLTW  121.029999  121.470001  120.720001  122.910004   \n",
       "\n",
       "       volume  daily_return  volatility        MA10        MA50        RSI  \\\n",
       "49   562100.0      0.003905    0.016867  118.392999  113.938400  91.354161   \n",
       "50   809300.0      0.024957    0.040988  119.095999  113.902200  94.479467   \n",
       "51  1607300.0     -0.023984    0.035976  119.503999  113.927999  76.731648   \n",
       "52  1001300.0      0.004882    0.022340  119.953999  114.057999  73.094836   \n",
       "53   711400.0      0.003635    0.018095  120.429999  114.154999  70.198089   \n",
       "\n",
       "      BB_upper    BB_lower  \n",
       "49  122.369285  114.416713  \n",
       "50  124.280062  113.911936  \n",
       "51  124.663518  114.344479  \n",
       "52  124.904214  115.003783  \n",
       "53  124.884430  115.975568  "
      ]
     },
     "metadata": {},
     "output_type": "display_data"
    },
    {
     "name": "stdout",
     "output_type": "stream",
     "text": [
      "['date', 'symbol', 'open', 'close', 'low', 'high', 'volume', 'daily_return', 'volatility', 'MA10', 'MA50', 'RSI', 'BB_upper', 'BB_lower']\n"
     ]
    }
   ],
   "source": [
    "# Create daily return as a feature\n",
    "df['daily_return'] = (df['close'] - df['open']) / df['open']\n",
    "\n",
    "# Create volatility feature\n",
    "df['volatility'] = (df['high'] - df['low']) / df['open']\n",
    "\n",
    "# Add moving averages\n",
    "df['MA10'] = df.groupby('symbol')['close'].transform(lambda x: x.rolling(window=10).mean())\n",
    "df['MA50'] = df.groupby('symbol')['close'].transform(lambda x: x.rolling(window=50).mean())\n",
    "\n",
    "# Add Relative Strength Index (RSI)\n",
    "def calculate_rsi(series, window=14):\n",
    "    delta = series.diff()\n",
    "    gain = (delta.where(delta > 0, 0)).rolling(window=window).mean()\n",
    "    loss = (-delta.where(delta < 0, 0)).rolling(window=window).mean()\n",
    "    rs = gain / loss\n",
    "    rsi = 100 - (100 / (1 + rs))\n",
    "    return rsi\n",
    "\n",
    "df['RSI'] = df.groupby('symbol')['close'].transform(lambda x: calculate_rsi(x))\n",
    "\n",
    "# Add Bollinger Bands\n",
    "df['BB_upper'] = df['MA10'] + 2 * df.groupby('symbol')['close'].transform(lambda x: x.rolling(window=10).std())\n",
    "df['BB_lower'] = df['MA10'] - 2 * df.groupby('symbol')['close'].transform(lambda x: x.rolling(window=10).std())\n",
    "\n",
    "# Drop any remaining missing values just in case\n",
    "df = df.dropna()\n",
    "\n",
    "print(\"\\nData with new features:\")\n",
    "display(df.head())\n",
    "print(df.columns.tolist())"
   ]
  },
  {
   "cell_type": "markdown",
   "id": "64bdf6a9",
   "metadata": {
    "id": "64bdf6a9"
   },
   "source": [
    "### Defining the Target Variable\n",
    "We'll create a binary target variable indicating whether the closing price increases (1) or decreases (0) the next trading day."
   ]
  },
  {
   "cell_type": "code",
   "execution_count": 9,
   "id": "c592fd25",
   "metadata": {
    "colab": {
     "base_uri": "https://localhost:8080/"
    },
    "id": "c592fd25",
    "outputId": "85596c48-b36a-486a-8b39-b7d1d3410b9f"
   },
   "outputs": [
    {
     "name": "stdout",
     "output_type": "stream",
     "text": [
      "Target distribution:\n",
      " target\n",
      "0    426216\n",
      "1    400499\n",
      "Name: count, dtype: int64\n"
     ]
    }
   ],
   "source": [
    "# Convert 'date' to datetime\n",
    "df['date'] = pd.to_datetime(df['date'])\n",
    "\n",
    "# Sort the dataframe by symbol and date to ensure correct ordering\n",
    "df = df.sort_values(by=['symbol', 'date'])\n",
    "\n",
    "# # Create the target variable: 1 if next day's close > today's close, else 0\n",
    "# df['target'] = df.groupby('symbol')['close'].shift(-1) > df['close']\n",
    "# df['target'] = df['target'].astype(int) # Convert Target to Binary (1 or 0)\n",
    "\n",
    "# Create the target variable: 1 if next day's close is at least 0.1% higher than today's close, else 0\n",
    "threshold = 0.001  # 0.1% threshold\n",
    "df['target'] = (df.groupby('symbol')['close'].shift(-1) - df['close']) / df['close'] >= threshold\n",
    "df['target'] = df['target'].astype(int)  # Convert Target to Binary (1 or 0)\n",
    "\n",
    "\n",
    "# Drop the last day for each symbol as it doesn't have a target\n",
    "df = df.dropna(subset=['target'])\n",
    "\n",
    "# Verify target distribution\n",
    "print(\"Target distribution:\\n\", df['target'].value_counts())"
   ]
  },
  {
   "cell_type": "code",
   "execution_count": 10,
   "id": "6b2a464c",
   "metadata": {
    "colab": {
     "base_uri": "https://localhost:8080/",
     "height": 398
    },
    "id": "6b2a464c",
    "outputId": "fcef3691-3f2c-41bd-8b04-42a72f23d09c"
   },
   "outputs": [
    {
     "name": "stdout",
     "output_type": "stream",
     "text": [
      "\n",
      "Sample data with target variable:\n"
     ]
    },
    {
     "data": {
      "text/html": [
       "<div>\n",
       "<style scoped>\n",
       "    .dataframe tbody tr th:only-of-type {\n",
       "        vertical-align: middle;\n",
       "    }\n",
       "\n",
       "    .dataframe tbody tr th {\n",
       "        vertical-align: top;\n",
       "    }\n",
       "\n",
       "    .dataframe thead th {\n",
       "        text-align: right;\n",
       "    }\n",
       "</style>\n",
       "<table border=\"1\" class=\"dataframe\">\n",
       "  <thead>\n",
       "    <tr style=\"text-align: right;\">\n",
       "      <th></th>\n",
       "      <th>date</th>\n",
       "      <th>symbol</th>\n",
       "      <th>open</th>\n",
       "      <th>close</th>\n",
       "      <th>low</th>\n",
       "      <th>high</th>\n",
       "      <th>volume</th>\n",
       "      <th>daily_return</th>\n",
       "      <th>volatility</th>\n",
       "      <th>MA10</th>\n",
       "      <th>MA50</th>\n",
       "      <th>RSI</th>\n",
       "      <th>BB_upper</th>\n",
       "      <th>BB_lower</th>\n",
       "      <th>target</th>\n",
       "    </tr>\n",
       "  </thead>\n",
       "  <tbody>\n",
       "    <tr>\n",
       "      <th>23182</th>\n",
       "      <td>2010-03-16</td>\n",
       "      <td>A</td>\n",
       "      <td>23.884121</td>\n",
       "      <td>23.905579</td>\n",
       "      <td>23.762518</td>\n",
       "      <td>24.020029</td>\n",
       "      <td>3285900.0</td>\n",
       "      <td>0.000898</td>\n",
       "      <td>0.010782</td>\n",
       "      <td>23.713877</td>\n",
       "      <td>22.066238</td>\n",
       "      <td>78.441538</td>\n",
       "      <td>24.379716</td>\n",
       "      <td>23.048037</td>\n",
       "      <td>0</td>\n",
       "    </tr>\n",
       "    <tr>\n",
       "      <th>23650</th>\n",
       "      <td>2010-03-17</td>\n",
       "      <td>A</td>\n",
       "      <td>23.919886</td>\n",
       "      <td>23.876966</td>\n",
       "      <td>23.834049</td>\n",
       "      <td>24.062946</td>\n",
       "      <td>3926000.0</td>\n",
       "      <td>-0.001794</td>\n",
       "      <td>0.009569</td>\n",
       "      <td>23.781116</td>\n",
       "      <td>22.095994</td>\n",
       "      <td>80.533312</td>\n",
       "      <td>24.346614</td>\n",
       "      <td>23.215617</td>\n",
       "      <td>1</td>\n",
       "    </tr>\n",
       "    <tr>\n",
       "      <th>24118</th>\n",
       "      <td>2010-03-18</td>\n",
       "      <td>A</td>\n",
       "      <td>23.819742</td>\n",
       "      <td>23.934191</td>\n",
       "      <td>23.719599</td>\n",
       "      <td>24.020029</td>\n",
       "      <td>4494700.0</td>\n",
       "      <td>0.004805</td>\n",
       "      <td>0.012613</td>\n",
       "      <td>23.866952</td>\n",
       "      <td>22.131760</td>\n",
       "      <td>78.901711</td>\n",
       "      <td>24.143308</td>\n",
       "      <td>23.590597</td>\n",
       "      <td>0</td>\n",
       "    </tr>\n",
       "    <tr>\n",
       "      <th>24586</th>\n",
       "      <td>2010-03-19</td>\n",
       "      <td>A</td>\n",
       "      <td>23.905579</td>\n",
       "      <td>23.905579</td>\n",
       "      <td>23.698141</td>\n",
       "      <td>24.077253</td>\n",
       "      <td>5882500.0</td>\n",
       "      <td>0.000000</td>\n",
       "      <td>0.015859</td>\n",
       "      <td>23.885550</td>\n",
       "      <td>22.168526</td>\n",
       "      <td>73.170716</td>\n",
       "      <td>24.142159</td>\n",
       "      <td>23.628942</td>\n",
       "      <td>1</td>\n",
       "    </tr>\n",
       "    <tr>\n",
       "      <th>25054</th>\n",
       "      <td>2010-03-22</td>\n",
       "      <td>A</td>\n",
       "      <td>23.791130</td>\n",
       "      <td>24.120172</td>\n",
       "      <td>23.669527</td>\n",
       "      <td>24.198856</td>\n",
       "      <td>3946600.0</td>\n",
       "      <td>0.013830</td>\n",
       "      <td>0.022249</td>\n",
       "      <td>23.937053</td>\n",
       "      <td>22.210157</td>\n",
       "      <td>73.448260</td>\n",
       "      <td>24.145812</td>\n",
       "      <td>23.728293</td>\n",
       "      <td>1</td>\n",
       "    </tr>\n",
       "    <tr>\n",
       "      <th>25522</th>\n",
       "      <td>2010-03-23</td>\n",
       "      <td>A</td>\n",
       "      <td>24.163090</td>\n",
       "      <td>24.399142</td>\n",
       "      <td>24.077253</td>\n",
       "      <td>24.470672</td>\n",
       "      <td>5195800.0</td>\n",
       "      <td>0.009769</td>\n",
       "      <td>0.016282</td>\n",
       "      <td>23.997138</td>\n",
       "      <td>22.257511</td>\n",
       "      <td>76.012437</td>\n",
       "      <td>24.334595</td>\n",
       "      <td>23.659682</td>\n",
       "      <td>0</td>\n",
       "    </tr>\n",
       "    <tr>\n",
       "      <th>25990</th>\n",
       "      <td>2010-03-24</td>\n",
       "      <td>A</td>\n",
       "      <td>24.306152</td>\n",
       "      <td>24.248926</td>\n",
       "      <td>24.220314</td>\n",
       "      <td>24.399142</td>\n",
       "      <td>3791500.0</td>\n",
       "      <td>-0.002354</td>\n",
       "      <td>0.007357</td>\n",
       "      <td>24.014306</td>\n",
       "      <td>22.301574</td>\n",
       "      <td>75.308619</td>\n",
       "      <td>24.385642</td>\n",
       "      <td>23.642969</td>\n",
       "      <td>1</td>\n",
       "    </tr>\n",
       "    <tr>\n",
       "      <th>26458</th>\n",
       "      <td>2010-03-25</td>\n",
       "      <td>A</td>\n",
       "      <td>24.391989</td>\n",
       "      <td>24.713877</td>\n",
       "      <td>24.370529</td>\n",
       "      <td>24.856939</td>\n",
       "      <td>6941300.0</td>\n",
       "      <td>0.013196</td>\n",
       "      <td>0.019941</td>\n",
       "      <td>24.083691</td>\n",
       "      <td>22.360229</td>\n",
       "      <td>73.244141</td>\n",
       "      <td>24.661610</td>\n",
       "      <td>23.505771</td>\n",
       "      <td>0</td>\n",
       "    </tr>\n",
       "    <tr>\n",
       "      <th>26926</th>\n",
       "      <td>2010-03-26</td>\n",
       "      <td>A</td>\n",
       "      <td>24.785408</td>\n",
       "      <td>24.542204</td>\n",
       "      <td>24.399142</td>\n",
       "      <td>24.821173</td>\n",
       "      <td>4705800.0</td>\n",
       "      <td>-0.009812</td>\n",
       "      <td>0.017027</td>\n",
       "      <td>24.147353</td>\n",
       "      <td>22.412017</td>\n",
       "      <td>71.335500</td>\n",
       "      <td>24.776094</td>\n",
       "      <td>23.518612</td>\n",
       "      <td>1</td>\n",
       "    </tr>\n",
       "    <tr>\n",
       "      <th>27394</th>\n",
       "      <td>2010-03-29</td>\n",
       "      <td>A</td>\n",
       "      <td>24.542204</td>\n",
       "      <td>24.606581</td>\n",
       "      <td>24.520745</td>\n",
       "      <td>24.821173</td>\n",
       "      <td>5377600.0</td>\n",
       "      <td>0.002623</td>\n",
       "      <td>0.012241</td>\n",
       "      <td>24.225322</td>\n",
       "      <td>22.458512</td>\n",
       "      <td>69.550170</td>\n",
       "      <td>24.870600</td>\n",
       "      <td>23.580043</td>\n",
       "      <td>1</td>\n",
       "    </tr>\n",
       "  </tbody>\n",
       "</table>\n",
       "</div>"
      ],
      "text/plain": [
       "            date symbol       open      close        low       high  \\\n",
       "23182 2010-03-16      A  23.884121  23.905579  23.762518  24.020029   \n",
       "23650 2010-03-17      A  23.919886  23.876966  23.834049  24.062946   \n",
       "24118 2010-03-18      A  23.819742  23.934191  23.719599  24.020029   \n",
       "24586 2010-03-19      A  23.905579  23.905579  23.698141  24.077253   \n",
       "25054 2010-03-22      A  23.791130  24.120172  23.669527  24.198856   \n",
       "25522 2010-03-23      A  24.163090  24.399142  24.077253  24.470672   \n",
       "25990 2010-03-24      A  24.306152  24.248926  24.220314  24.399142   \n",
       "26458 2010-03-25      A  24.391989  24.713877  24.370529  24.856939   \n",
       "26926 2010-03-26      A  24.785408  24.542204  24.399142  24.821173   \n",
       "27394 2010-03-29      A  24.542204  24.606581  24.520745  24.821173   \n",
       "\n",
       "          volume  daily_return  volatility       MA10       MA50        RSI  \\\n",
       "23182  3285900.0      0.000898    0.010782  23.713877  22.066238  78.441538   \n",
       "23650  3926000.0     -0.001794    0.009569  23.781116  22.095994  80.533312   \n",
       "24118  4494700.0      0.004805    0.012613  23.866952  22.131760  78.901711   \n",
       "24586  5882500.0      0.000000    0.015859  23.885550  22.168526  73.170716   \n",
       "25054  3946600.0      0.013830    0.022249  23.937053  22.210157  73.448260   \n",
       "25522  5195800.0      0.009769    0.016282  23.997138  22.257511  76.012437   \n",
       "25990  3791500.0     -0.002354    0.007357  24.014306  22.301574  75.308619   \n",
       "26458  6941300.0      0.013196    0.019941  24.083691  22.360229  73.244141   \n",
       "26926  4705800.0     -0.009812    0.017027  24.147353  22.412017  71.335500   \n",
       "27394  5377600.0      0.002623    0.012241  24.225322  22.458512  69.550170   \n",
       "\n",
       "        BB_upper   BB_lower  target  \n",
       "23182  24.379716  23.048037       0  \n",
       "23650  24.346614  23.215617       1  \n",
       "24118  24.143308  23.590597       0  \n",
       "24586  24.142159  23.628942       1  \n",
       "25054  24.145812  23.728293       1  \n",
       "25522  24.334595  23.659682       0  \n",
       "25990  24.385642  23.642969       1  \n",
       "26458  24.661610  23.505771       0  \n",
       "26926  24.776094  23.518612       1  \n",
       "27394  24.870600  23.580043       1  "
      ]
     },
     "execution_count": 10,
     "metadata": {},
     "output_type": "execute_result"
    }
   ],
   "source": [
    "print(\"\\nSample data with target variable:\")\n",
    "df.head(10)"
   ]
  },
  {
   "cell_type": "markdown",
   "id": "exploratory-data-analysis",
   "metadata": {
    "id": "exploratory-data-analysis"
   },
   "source": [
    "## Exploratory Data Analysis (EDA)\n",
    "Understand the distribution of features and the target variable."
   ]
  },
  {
   "cell_type": "markdown",
   "id": "target-distribution",
   "metadata": {
    "id": "target-distribution"
   },
   "source": [
    "### Distribution of the Target Variable"
   ]
  },
  {
   "cell_type": "code",
   "execution_count": 11,
   "id": "plot-target",
   "metadata": {
    "colab": {
     "base_uri": "https://localhost:8080/",
     "height": 526
    },
    "id": "plot-target",
    "outputId": "80071d74-4063-4fea-e84f-87e70e68bb7f"
   },
   "outputs": [
    {
     "data": {
      "image/png": "[encoded data removed]",
      "text/plain": [
       "<Figure size 600x400 with 1 Axes>"
      ]
     },
     "metadata": {},
     "output_type": "display_data"
    },
    {
     "name": "stdout",
     "output_type": "stream",
     "text": [
      "\n",
      "Class Distribution:\n",
      "target\n",
      "0    0.515554\n",
      "1    0.484446\n",
      "Name: proportion, dtype: float64\n"
     ]
    }
   ],
   "source": [
    "# Plot the distribution of the target variable\n",
    "plt.figure(figsize=(6,4))\n",
    "sns.countplot(x='target', data=df, palette='Set2')\n",
    "plt.title('Distribution of Target Variable')\n",
    "plt.xlabel('Price Increase (1) or Decrease (0)')\n",
    "plt.ylabel('Count')\n",
    "plt.show()\n",
    "\n",
    "# Print the class balance\n",
    "print(\"\\nClass Distribution:\")\n",
    "print(df['target'].value_counts(normalize=True))"
   ]
  },
  {
   "cell_type": "markdown",
   "id": "feature-distributions",
   "metadata": {
    "id": "feature-distributions"
   },
   "source": [
    "### Feature Distributions\n",
    "Visualize the distribution of key numerical features."
   ]
  },
  {
   "cell_type": "code",
   "execution_count": 12,
   "id": "plot-features",
   "metadata": {
    "colab": {
     "base_uri": "https://localhost:8080/",
     "height": 1000
    },
    "id": "plot-features",
    "outputId": "3668d6c1-184f-4fcc-d333-e9cd0c95b276"
   },
   "outputs": [
    {
     "data": {
      "image/png": "[encoded data removed]",
      "text/plain": [
       "<Figure size 1500x2000 with 12 Axes>"
      ]
     },
     "metadata": {},
     "output_type": "display_data"
    }
   ],
   "source": [
    "# Select numerical features for plotting\n",
    "features = ['open', 'close', 'low', 'high', 'volume', 'daily_return', 'volatility', 'MA10', 'MA50', 'RSI', 'BB_upper', 'BB_lower']\n",
    "\n",
    "# Determine the number of rows needed for subplots\n",
    "import math\n",
    "n_features = len(features)\n",
    "n_rows = math.ceil(n_features / 3)\n",
    "\n",
    "# Plot histograms\n",
    "plt.figure(figsize=(15, 5 * n_rows))  # Adjust figure height dynamically\n",
    "for i, feature in enumerate(features, 1):\n",
    "    plt.subplot(n_rows, 3, i)  # Adjust rows dynamically\n",
    "    sns.histplot(df[feature], kde=True, bins=50)\n",
    "    plt.title(f'Distribution of {feature}')\n",
    "plt.tight_layout()\n",
    "plt.show()"
   ]
  },
  {
   "cell_type": "markdown",
   "id": "d3666a34",
   "metadata": {
    "id": "d3666a34"
   },
   "source": [
    "#### Observation:\n",
    "\n",
    "- **Open, Close, Low, High Prices:**\n",
    "  - These features are heavily skewed to the right, with most values clustered in the lower range. We might need to scale or transform them (maybe with log scaling) to handle the skew if it impacts the model.\n",
    "\n",
    "- **Volume:**\n",
    "  - Trading volume is also very right-skewed, with a few really high values standing out as potential outliers. We’ll probably need to normalize this or deal with those outliers.\n",
    "\n",
    "- **Daily Return:**\n",
    "  - This one’s more balanced, with a nice symmetric distribution around zero. It looks like we have a good mix of small positive and negative returns.\n",
    "\n",
    "- **Volatility:**\n",
    "  - Volatility is skewed to the right, with most values near zero. Big price swings within a day seem to be rare."
   ]
  },
  {
   "cell_type": "markdown",
   "id": "data-preparation",
   "metadata": {
    "id": "data-preparation"
   },
   "source": [
    "## Data Preparation\n",
    "Split the data into training and testing sets, and scale the features."
   ]
  },
  {
   "cell_type": "markdown",
   "id": "encoding-categorical",
   "metadata": {
    "id": "encoding-categorical"
   },
   "source": [
    "### Sequence Generation for LSTM\n",
    "LSTM models require input data in the form of sequences. We'll define a `lookback period` (number of previous days) to create these sequences."
   ]
  },
  {
   "cell_type": "code",
   "execution_count": 13,
   "id": "encode-categorical",
   "metadata": {
    "colab": {
     "base_uri": "https://localhost:8080/"
    },
    "id": "encode-categorical",
    "outputId": "5a4f02da-be28-46ff-9b46-7a2f65401220"
   },
   "outputs": [
    {
     "name": "stdout",
     "output_type": "stream",
     "text": [
      "Shape of X: (801665, 50, 12)\n",
      "Shape of y: (801665,)\n"
     ]
    }
   ],
   "source": [
    "def create_sequences(df, lookback):\n",
    "    \"\"\"\n",
    "    Create sequences of data for LSTM.\n",
    "\n",
    "    Parameters:\n",
    "    - df: pandas DataFrame\n",
    "    - lookback: int, number of previous days to include in each sequence\n",
    "\n",
    "    Returns:\n",
    "    - X: numpy array of shape (samples, lookback, features)\n",
    "    - y: numpy array of shape (samples,)\n",
    "    \"\"\"\n",
    "    X, y = [], []\n",
    "    symbols = df['symbol'].unique()\n",
    "\n",
    "    for symbol in symbols:\n",
    "        symbol_df = df[df['symbol'] == symbol].sort_values('date')\n",
    "        data = symbol_df[['open', 'close', 'low', 'high', 'volume', 'daily_return', 'volatility', 'MA10', 'MA50', 'RSI', 'BB_upper', 'BB_lower']].values\n",
    "        target = symbol_df['target'].values\n",
    "\n",
    "        for i in range(len(data) - lookback):\n",
    "            X.append(data[i:i+lookback])\n",
    "            y.append(target[i+lookback])\n",
    "\n",
    "    return np.array(X), np.array(y)\n",
    "\n",
    "# Define the lookback period\n",
    "LOOKBACK = 50\n",
    "\n",
    "# Create sequences\n",
    "X, y = create_sequences(df, LOOKBACK)\n",
    "\n",
    "print(f\"Shape of X: {X.shape}\")\n",
    "print(f\"Shape of y: {y.shape}\")"
   ]
  },
  {
   "cell_type": "markdown",
   "id": "train-test-split",
   "metadata": {
    "id": "train-test-split"
   },
   "source": [
    "### Splitting Data into Training and Testing Sets\n",
    "We'll split the data based on chronological order to prevent data leakage. Training data will consist of sequences ending before 2016, and testing data will consist of sequences ending in 2016."
   ]
  },
  {
   "cell_type": "code",
   "execution_count": 14,
   "id": "split-data",
   "metadata": {
    "colab": {
     "base_uri": "https://localhost:8080/"
    },
    "id": "split-data",
    "outputId": "703d09b0-3d0a-437e-c713-ce245c504757"
   },
   "outputs": [
    {
     "name": "stdout",
     "output_type": "stream",
     "text": [
      "\n",
      "Training set size: (675852, 50, 12)\n",
      "Testing set size: (125813, 50, 12)\n"
     ]
    }
   ],
   "source": [
    "# Convert sequences back to DataFrame to access dates\n",
    "def get_sequence_end_dates(df, lookback):\n",
    "    \"\"\"\n",
    "    Get the end dates for each sequence.\n",
    "\n",
    "    Parameters:\n",
    "    - df: pandas DataFrame\n",
    "    - lookback: int\n",
    "\n",
    "    Returns:\n",
    "    - dates: list of datetime objects\n",
    "    \"\"\"\n",
    "    dates = []\n",
    "    symbols = df['symbol'].unique()\n",
    "\n",
    "    for symbol in symbols:\n",
    "        symbol_df = df[df['symbol'] == symbol].sort_values('date')\n",
    "        for i in range(lookback, len(symbol_df)):\n",
    "            dates.append(symbol_df.iloc[i]['date'])\n",
    "\n",
    "    return dates\n",
    "\n",
    "sequence_dates = get_sequence_end_dates(df, LOOKBACK)\n",
    "\n",
    "# Convert to pandas Series for easier indexing\n",
    "sequence_dates = pd.Series(sequence_dates)\n",
    "\n",
    "# Define the split date\n",
    "split_date = pd.to_datetime('2016-01-01')\n",
    "\n",
    "# Create boolean masks Train: (2010-2015) , Test: (2016)\n",
    "train_mask = sequence_dates < split_date\n",
    "test_mask = sequence_dates >= split_date\n",
    "\n",
    "# Split the data\n",
    "X_train, X_test = X[train_mask], X[test_mask]\n",
    "y_train, y_test = y[train_mask], y[test_mask]\n",
    "\n",
    "print(f\"\\nTraining set size: {X_train.shape}\")\n",
    "print(f\"Testing set size: {X_test.shape}\")"
   ]
  },
  {
   "cell_type": "markdown",
   "id": "scaling-features",
   "metadata": {
    "id": "scaling-features"
   },
   "source": [
    "### Scaling Features\n",
    "We'll scale numerical features to ensure they contribute equally to the model. Scaling is performed based on the training data to prevent data leakage."
   ]
  },
  {
   "cell_type": "code",
   "execution_count": 15,
   "id": "scale-features",
   "metadata": {
    "id": "scale-features"
   },
   "outputs": [
    {
     "name": "stdout",
     "output_type": "stream",
     "text": [
      "\n",
      "Features scaled using StandardScaler.\n"
     ]
    }
   ],
   "source": [
    "# Initialize StandardScaler\n",
    "# scaler = StandardScaler()\n",
    "scaler = MinMaxScaler()\n",
    "\n",
    "# Reshape X_train and X_test to 2D for scaling\n",
    "num_samples_train, timesteps, num_features = X_train.shape\n",
    "X_train_reshaped = X_train.reshape(-1, num_features)\n",
    "X_test_reshaped = X_test.reshape(-1, num_features)\n",
    "\n",
    "# Fit the scaler on training data and transform both training and testing data\n",
    "scaler.fit(X_train_reshaped)\n",
    "X_train_scaled = scaler.transform(X_train_reshaped).reshape(num_samples_train, timesteps, num_features)\n",
    "X_test_scaled = scaler.transform(X_test_reshaped).reshape(X_test.shape[0], LOOKBACK, num_features)\n",
    "\n",
    "print(\"\\nFeatures scaled using StandardScaler.\")"
   ]
  },
  {
   "cell_type": "markdown",
   "id": "model-training",
   "metadata": {
    "id": "model-training"
   },
   "source": [
    "## Building the LSTM Model\n",
    "We'll construct an LSTM-based neural network for binary classification."
   ]
  },
  {
   "cell_type": "code",
   "execution_count": 16,
   "id": "train-models",
   "metadata": {
    "id": "train-models"
   },
   "outputs": [
    {
     "name": "stdout",
     "output_type": "stream",
     "text": [
      "Model: \"sequential\"\n",
      "_________________________________________________________________\n",
      " Layer (type)                Output Shape              Param #   \n",
      "=================================================================\n",
      " lstm (LSTM)                 (None, 50, 64)            19712     \n",
      "                                                                 \n",
      " dropout (Dropout)           (None, 50, 64)            0         \n",
      "                                                                 \n",
      " lstm_1 (LSTM)               (None, 32)                12416     \n",
      "                                                                 \n",
      " dropout_1 (Dropout)         (None, 32)                0         \n",
      "                                                                 \n",
      " dense (Dense)               (None, 16)                528       \n",
      "                                                                 \n",
      " dense_1 (Dense)             (None, 1)                 17        \n",
      "                                                                 \n",
      "=================================================================\n",
      "Total params: 32673 (127.63 KB)\n",
      "Trainable params: 32673 (127.63 KB)\n",
      "Non-trainable params: 0 (0.00 Byte)\n",
      "_________________________________________________________________\n"
     ]
    }
   ],
   "source": [
    "# Define the LSTM model\n",
    "model = Sequential([\n",
    "    LSTM(64, input_shape=(LOOKBACK, X_train_scaled.shape[2]), return_sequences=True),\n",
    "    Dropout(0.2),\n",
    "    LSTM(32),\n",
    "    Dropout(0.2),\n",
    "    Dense(16, activation='relu'),\n",
    "    Dense(1, activation='sigmoid')\n",
    "])\n",
    "\n",
    "# Compile the model\n",
    "model.compile(optimizer='adam', loss='binary_crossentropy', metrics=['accuracy'])\n",
    "\n",
    "# Display the model summary\n",
    "model.summary()"
   ]
  },
  {
   "cell_type": "code",
   "execution_count": 17,
   "id": "ddfe074c",
   "metadata": {
    "id": "ddfe074c"
   },
   "outputs": [],
   "source": [
    "# # Define the simplified LSTM model\n",
    "# model = Sequential([\n",
    "#     LSTM(50, input_shape=(LOOKBACK, X_train_scaled.shape[2])),\n",
    "#     Dense(1, activation='sigmoid')  # Output layer for binary classification\n",
    "# ])\n",
    "\n",
    "# # Compile the model\n",
    "# model.compile(optimizer='adam', loss='binary_crossentropy', metrics=['AUC'])\n",
    "\n",
    "# # Display the model summary\n",
    "# model.summary()"
   ]
  },
  {
   "cell_type": "code",
   "execution_count": 18,
   "id": "14e67f1c",
   "metadata": {
    "id": "14e67f1c"
   },
   "outputs": [],
   "source": [
    "# # Define the updated LSTM model\n",
    "# model = Sequential([\n",
    "#     LSTM(64, input_shape=(LOOKBACK, X_train_scaled.shape[2]), return_sequences=True),\n",
    "#     Dropout(0.3),  # Moderate dropout to prevent overfitting\n",
    "#     LSTM(32),\n",
    "#     Dropout(0.3),\n",
    "#     Dense(16, activation='relu'),\n",
    "#     Dense(1, activation='sigmoid')  # Output layer for binary classification\n",
    "# ])\n",
    "\n",
    "# # Compile the model with accuracy and AUC as metrics\n",
    "# model.compile(optimizer=Adam(learning_rate=0.0005),\n",
    "#               loss='binary_crossentropy',\n",
    "#               metrics=['accuracy', 'AUC'])\n",
    "\n",
    "# # Display the model summary\n",
    "# model.summary()"
   ]
  },
  {
   "cell_type": "markdown",
   "id": "model-evaluation",
   "metadata": {
    "id": "model-evaluation"
   },
   "source": [
    "## Training the Model\n",
    "We'll train the LSTM model with early stopping to prevent overfitting."
   ]
  },
  {
   "cell_type": "code",
   "execution_count": null,
   "id": "1946437b",
   "metadata": {
    "id": "1946437b"
   },
   "outputs": [
    {
     "name": "stdout",
     "output_type": "stream",
     "text": [
      "Epoch 1/50\n",
      "4225/4225 [==============================] - 178s 42ms/step - loss: 0.6925 - accuracy: 0.5155 - val_loss: 0.6923 - val_accuracy: 0.5158\n",
      "Epoch 2/50\n",
      "4225/4225 [==============================] - 173s 41ms/step - loss: 0.6919 - accuracy: 0.5204 - val_loss: 0.6913 - val_accuracy: 0.5254\n",
      "Epoch 3/50\n",
      "4225/4225 [==============================] - 173s 41ms/step - loss: 0.6912 - accuracy: 0.5248 - val_loss: 0.6909 - val_accuracy: 0.5270\n",
      "Epoch 4/50\n",
      "4225/4225 [==============================] - 183s 43ms/step - loss: 0.6907 - accuracy: 0.5266 - val_loss: 0.6906 - val_accuracy: 0.5263\n",
      "Epoch 5/50\n",
      "4225/4225 [==============================] - 177s 42ms/step - loss: 0.6904 - accuracy: 0.5278 - val_loss: 0.6905 - val_accuracy: 0.5257\n",
      "Epoch 6/50\n",
      "4225/4225 [==============================] - 176s 42ms/step - loss: 0.6898 - accuracy: 0.5280 - val_loss: 0.6887 - val_accuracy: 0.5301\n",
      "Epoch 7/50\n",
      "4225/4225 [==============================] - 179s 42ms/step - loss: 0.6886 - accuracy: 0.5310 - val_loss: 0.6872 - val_accuracy: 0.5319\n",
      "Epoch 8/50\n",
      "4225/4225 [==============================] - 178s 42ms/step - loss: 0.6868 - accuracy: 0.5324 - val_loss: 0.6848 - val_accuracy: 0.5365\n",
      "Epoch 9/50\n",
      "4225/4225 [==============================] - 179s 42ms/step - loss: 0.6851 - accuracy: 0.5339 - val_loss: 0.6834 - val_accuracy: 0.5366\n",
      "Epoch 10/50\n",
      "4225/4225 [==============================] - 193s 46ms/step - loss: 0.6833 - accuracy: 0.5361 - val_loss: 0.6825 - val_accuracy: 0.5373\n",
      "Epoch 11/50\n",
      "4225/4225 [==============================] - 203s 48ms/step - loss: 0.6817 - accuracy: 0.5383 - val_loss: 0.6802 - val_accuracy: 0.5409\n",
      "Epoch 12/50\n",
      "4225/4225 [==============================] - 213s 51ms/step - loss: 0.6804 - accuracy: 0.5404 - val_loss: 0.6802 - val_accuracy: 0.5422\n",
      "Epoch 13/50\n",
      "4225/4225 [==============================] - 192s 45ms/step - loss: 0.6790 - accuracy: 0.5424 - val_loss: 0.6796 - val_accuracy: 0.5430\n",
      "Epoch 14/50\n",
      "4225/4225 [==============================] - 211s 50ms/step - loss: 0.6777 - accuracy: 0.5451 - val_loss: 0.6776 - val_accuracy: 0.5457\n",
      "Epoch 15/50\n",
      "4225/4225 [==============================] - 200s 47ms/step - loss: 0.6761 - accuracy: 0.5470 - val_loss: 0.6757 - val_accuracy: 0.5476\n",
      "Epoch 16/50\n",
      "4225/4225 [==============================] - 199s 47ms/step - loss: 0.6748 - accuracy: 0.5482 - val_loss: 0.6749 - val_accuracy: 0.5508\n",
      "Epoch 17/50\n",
      "4225/4225 [==============================] - 212s 50ms/step - loss: 0.6732 - accuracy: 0.5513 - val_loss: 0.6725 - val_accuracy: 0.5533\n",
      "Epoch 18/50\n",
      "4225/4225 [==============================] - 197s 47ms/step - loss: 0.6719 - accuracy: 0.5521 - val_loss: 0.6707 - val_accuracy: 0.5555\n",
      "Epoch 19/50\n",
      "4225/4225 [==============================] - 192s 46ms/step - loss: 0.6703 - accuracy: 0.5544 - val_loss: 0.6694 - val_accuracy: 0.5572\n",
      "Epoch 20/50\n",
      "4225/4225 [==============================] - 186s 44ms/step - loss: 0.6685 - accuracy: 0.5561 - val_loss: 0.6672 - val_accuracy: 0.5589\n",
      "Epoch 21/50\n",
      "4225/4225 [==============================] - 186s 44ms/step - loss: 0.6668 - accuracy: 0.5585 - val_loss: 0.6652 - val_accuracy: 0.5616\n",
      "Epoch 22/50\n",
      "4225/4225 [==============================] - 180s 43ms/step - loss: 0.6649 - accuracy: 0.5605 - val_loss: 0.6635 - val_accuracy: 0.5623\n",
      "Epoch 23/50\n",
      "4225/4225 [==============================] - 195s 46ms/step - loss: 0.6632 - accuracy: 0.5622 - val_loss: 0.6622 - val_accuracy: 0.5627\n",
      "Epoch 24/50\n",
      "4225/4225 [==============================] - 193s 46ms/step - loss: 0.6619 - accuracy: 0.5640 - val_loss: 0.6613 - val_accuracy: 0.5625\n",
      "Epoch 25/50\n",
      "4225/4225 [==============================] - 192s 46ms/step - loss: 0.6606 - accuracy: 0.5652 - val_loss: 0.6604 - val_accuracy: 0.5656\n",
      "Epoch 26/50\n",
      "4225/4225 [==============================] - 201s 48ms/step - loss: 0.6597 - accuracy: 0.5661 - val_loss: 0.6588 - val_accuracy: 0.5672\n",
      "Epoch 27/50\n",
      "4225/4225 [==============================] - 194s 46ms/step - loss: 0.6585 - accuracy: 0.5671 - val_loss: 0.6574 - val_accuracy: 0.5691\n",
      "Epoch 28/50\n",
      "4225/4225 [==============================] - 179s 42ms/step - loss: 0.6574 - accuracy: 0.5695 - val_loss: 0.6566 - val_accuracy: 0.5714\n",
      "Epoch 29/50\n",
      "4225/4225 [==============================] - 175s 41ms/step - loss: 0.6566 - accuracy: 0.5704 - val_loss: 0.6569 - val_accuracy: 0.5704\n",
      "Epoch 30/50\n",
      "4225/4225 [==============================] - 177s 42ms/step - loss: 0.6560 - accuracy: 0.5711 - val_loss: 0.6543 - val_accuracy: 0.5741\n",
      "Epoch 31/50\n",
      "4225/4225 [==============================] - 177s 42ms/step - loss: 0.6549 - accuracy: 0.5724 - val_loss: 0.6552 - val_accuracy: 0.5719\n",
      "Epoch 32/50\n",
      "4225/4225 [==============================] - 179s 42ms/step - loss: 0.6553 - accuracy: 0.5724 - val_loss: 0.6564 - val_accuracy: 0.5705\n",
      "Epoch 33/50\n",
      "4225/4225 [==============================] - 178s 42ms/step - loss: 0.6534 - accuracy: 0.5740 - val_loss: 0.6537 - val_accuracy: 0.5754\n",
      "Epoch 34/50\n",
      "4225/4225 [==============================] - 180s 43ms/step - loss: 0.6528 - accuracy: 0.5761 - val_loss: 0.6533 - val_accuracy: 0.5758\n",
      "Epoch 35/50\n",
      "4225/4225 [==============================] - ETA: 0s - loss: 0.6524 - accuracy: 0.5761"
     ]
    }
   ],
   "source": [
    "# Define early stopping\n",
    "early_stop = EarlyStopping(monitor='val_loss', patience=5, restore_best_weights=True)\n",
    "\n",
    "# Train the model\n",
    "history = model.fit(\n",
    "    X_train_scaled, y_train,\n",
    "    epochs=50,\n",
    "    batch_size=128,\n",
    "    validation_split=0.2,\n",
    "    callbacks=[early_stop],\n",
    "    verbose=1\n",
    ")"
   ]
  },
  {
   "cell_type": "code",
   "execution_count": null,
   "id": "2560fe63",
   "metadata": {
    "id": "2560fe63"
   },
   "outputs": [],
   "source": [
    "# # from tensorflow.keras.optimizers import Adam\n",
    "\n",
    "# # Define the optimizer with a smaller learning rate\n",
    "# optimizer = Adam(learning_rate=0.0005)\n",
    "\n",
    "# # Compile the model with the new optimizer\n",
    "# model.compile(optimizer=optimizer, loss='binary_crossentropy', metrics=['AUC'])\n",
    "\n",
    "# # Adjust early stopping patience and batch size\n",
    "# early_stop = EarlyStopping(monitor='val_loss', patience=8, restore_best_weights=True)\n",
    "\n",
    "# # Train the model with a larger batch size\n",
    "# history = model.fit(\n",
    "#     X_train_scaled, y_train,\n",
    "#     epochs=50,\n",
    "#     batch_size=256,  # Larger batch size\n",
    "#     validation_split=0.2,\n",
    "#     callbacks=[early_stop],\n",
    "#     verbose=1\n",
    "# )"
   ]
  },
  {
   "cell_type": "code",
   "execution_count": null,
   "id": "c389aa74",
   "metadata": {
    "id": "c389aa74"
   },
   "outputs": [],
   "source": [
    "# # Define early stopping\n",
    "# early_stop = EarlyStopping(monitor='val_loss', patience=8, restore_best_weights=True)\n",
    "\n",
    "# # Train the model with larger batch size and moderate patience\n",
    "# history = model.fit(\n",
    "#     X_train_scaled, y_train,\n",
    "#     epochs=50,\n",
    "#     batch_size=256,  # Larger batch size to stabilize gradients\n",
    "#     validation_split=0.2,\n",
    "#     callbacks=[early_stop],\n",
    "#     verbose=1\n",
    "# )"
   ]
  },
  {
   "cell_type": "markdown",
   "id": "d11a3d62",
   "metadata": {
    "id": "d11a3d62"
   },
   "source": [
    "### Plotting Learning Curves\n",
    "Visualizing training and validation loss and accuracy over epochs."
   ]
  },
  {
   "cell_type": "code",
   "execution_count": null,
   "id": "8cecc279",
   "metadata": {
    "id": "8cecc279"
   },
   "outputs": [],
   "source": [
    "# Plot training & validation loss values\n",
    "plt.figure(figsize=(14,6))\n",
    "\n",
    "plt.subplot(1, 2, 1)\n",
    "plt.plot(history.history['loss'], label='Train Loss')\n",
    "plt.plot(history.history['val_loss'], label='Validation Loss')\n",
    "plt.title('Model Loss Over Epochs')\n",
    "plt.ylabel('Loss')\n",
    "plt.xlabel('Epoch')\n",
    "plt.legend()\n",
    "\n",
    "# # Plot training & validation accuracy values\n",
    "# plt.subplot(1, 2, 2)\n",
    "# plt.plot(history.history['accuracy'], label='Train Accuracy')\n",
    "# plt.plot(history.history['val_accuracy'], label='Validation Accuracy')\n",
    "# plt.title('Model Accuracy Over Epochs')\n",
    "# plt.ylabel('Accuracy')\n",
    "# plt.xlabel('Epoch')\n",
    "# plt.legend()\n",
    "\n",
    "# Plot training & validation AUC values\n",
    "plt.subplot(1, 2, 2)\n",
    "plt.plot(history.history['AUC'], label='Train AUC')\n",
    "plt.plot(history.history['val_AUC'], label='Validation AUC')\n",
    "plt.title('Model AUC Over Epochs')\n",
    "plt.ylabel('AUC')\n",
    "plt.xlabel('Epoch')\n",
    "plt.legend()\n",
    "\n",
    "\n",
    "plt.tight_layout()\n",
    "plt.show()"
   ]
  },
  {
   "cell_type": "markdown",
   "id": "a8320beb",
   "metadata": {
    "id": "a8320beb"
   },
   "source": [
    "### Model Evaluation\n",
    "We'll evaluate the performance of the LSTM model using various classification metrics and visualizations."
   ]
  },
  {
   "cell_type": "code",
   "execution_count": null,
   "id": "6279a99a",
   "metadata": {
    "id": "6279a99a"
   },
   "outputs": [],
   "source": [
    "# Predict probabilities and classes\n",
    "y_pred_proba = model.predict(X_test_scaled).flatten()\n",
    "y_pred = (y_pred_proba >= 0.5).astype(int)\n",
    "\n",
    "# Calculate evaluation metrics\n",
    "accuracy = accuracy_score(y_test, y_pred)\n",
    "precision = precision_score(y_test, y_pred)\n",
    "recall = recall_score(y_test, y_pred)\n",
    "f1 = f1_score(y_test, y_pred)\n",
    "roc_auc = roc_auc_score(y_test, y_pred_proba)\n",
    "\n",
    "# Create a DataFrame to display metrics\n",
    "evaluation_metrics = pd.DataFrame({\n",
    "    'Metric': ['Accuracy', 'Precision', 'Recall', 'F1 Score', 'ROC-AUC'],\n",
    "    'Score': [accuracy, precision, recall, f1, roc_auc]\n",
    "})\n",
    "\n",
    "print(\"\\nModel Evaluation Metrics on Test Set:\")\n",
    "display(evaluation_metrics)"
   ]
  },
  {
   "cell_type": "code",
   "execution_count": null,
   "id": "137e83ad",
   "metadata": {
    "id": "137e83ad"
   },
   "outputs": [],
   "source": [
    "# Plot evaluation metrics\n",
    "plt.figure(figsize=(8,6))\n",
    "sns.barplot(x='Metric', y='Score', data=evaluation_metrics, palette='viridis')\n",
    "plt.title('LSTM Model Evaluation Metrics')\n",
    "plt.ylim(0, 1)\n",
    "for index, row in evaluation_metrics.iterrows():\n",
    "    plt.text(index, row.Score + 0.01, f\"{row.Score:.2f}\", ha='center')\n",
    "plt.show()"
   ]
  },
  {
   "cell_type": "markdown",
   "id": "1f0f9c70",
   "metadata": {
    "id": "1f0f9c70"
   },
   "source": [
    "### Confusion Matrix\n",
    "Visualizing the confusion matrix to understand the distribution of predictions."
   ]
  },
  {
   "cell_type": "code",
   "execution_count": null,
   "id": "f6c5749d",
   "metadata": {
    "id": "f6c5749d"
   },
   "outputs": [],
   "source": [
    "# Compute confusion matrix\n",
    "cm = confusion_matrix(y_test, y_pred)\n",
    "\n",
    "# Plot confusion matrix\n",
    "plt.figure(figsize=(5,4))\n",
    "sns.heatmap(cm, annot=True, fmt='d', cmap='Blues', xticklabels=['Decrease (0)', 'Increase (1)'], yticklabels=['Decrease (0)', 'Increase (1)'])\n",
    "plt.title('Confusion Matrix - LSTM Model')\n",
    "plt.xlabel('Predicted')\n",
    "plt.ylabel('Actual')\n",
    "plt.show()"
   ]
  },
  {
   "cell_type": "markdown",
   "id": "67f9d1c3",
   "metadata": {
    "id": "67f9d1c3"
   },
   "source": [
    "### ROC Curve\n",
    "Plotting the ROC curve to visualize the trade-off between true positive rate and false positive rate."
   ]
  },
  {
   "cell_type": "code",
   "execution_count": null,
   "id": "1e6eda20",
   "metadata": {
    "id": "1e6eda20"
   },
   "outputs": [],
   "source": [
    "# Compute ROC curve and ROC area\n",
    "fpr, tpr, thresholds = roc_curve(y_test, y_pred_proba)\n",
    "\n",
    "plt.figure(figsize=(8,6))\n",
    "plt.plot(fpr, tpr, label=f'LSTM Model (AUC = {roc_auc:.2f})')\n",
    "plt.plot([0, 1], [0, 1], 'k--')  # Diagonal line\n",
    "plt.title('ROC Curve - LSTM Model')\n",
    "plt.xlabel('False Positive Rate')\n",
    "plt.ylabel('True Positive Rate')\n",
    "plt.legend(loc='lower right')\n",
    "plt.show()"
   ]
  },
  {
   "cell_type": "markdown",
   "id": "c68a4a57",
   "metadata": {
    "id": "c68a4a57"
   },
   "source": [
    "### Classification Report\n",
    "Detailed classification report for the model."
   ]
  },
  {
   "cell_type": "code",
   "execution_count": null,
   "id": "2fa6864d",
   "metadata": {
    "id": "2fa6864d"
   },
   "outputs": [],
   "source": [
    "# Print classification report\n",
    "print(\"\\nClassification Report for LSTM Model:\")\n",
    "print(classification_report(y_test, y_pred))"
   ]
  },
  {
   "cell_type": "markdown",
   "id": "conclusion",
   "metadata": {
    "id": "conclusion"
   },
   "source": [
    "## Conclusion\n"
   ]
  }
 ],
 "metadata": {
  "accelerator": "GPU",
  "colab": {
   "gpuType": "T4",
   "provenance": []
  },
  "kernelspec": {
   "display_name": "dsi_participant",
   "language": "python",
   "name": "python3"
  },
  "language_info": {
   "codemirror_mode": {
    "name": "ipython",
    "version": 3
   },
   "file_extension": ".py",
   "mimetype": "text/x-python",
   "name": "python",
   "nbconvert_exporter": "python",
   "pygments_lexer": "ipython3",
   "version": "3.9.19"
  }
 },
 "nbformat": 4,
 "nbformat_minor": 5
}
